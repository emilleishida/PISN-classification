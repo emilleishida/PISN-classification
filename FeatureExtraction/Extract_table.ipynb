{
 "cells": [
  {
   "cell_type": "code",
   "execution_count": null,
   "id": "bright-chocolate",
   "metadata": {},
   "outputs": [],
   "source": [
    "import pandas as pd\n",
    "import paraa"
   ]
  },
  {
   "cell_type": "code",
   "execution_count": null,
   "id": "interstate-favor",
   "metadata": {},
   "outputs": [],
   "source": [
    "        # We define the Bazin model\n",
    "def bazin(time, a, b, t0, tfall, trise):\n",
    "    X = np.exp(-(time - t0) / tfall) / (1 + np.exp((time - t0) / trise))\n",
    "    return a * X + b\n",
    "\n",
    "def errfunc_bazin(params,time, flux):\n",
    "    return abs(flux - bazin(time,*params))\n",
    "\n",
    "        # We define the polynomial model\n",
    "\n",
    "def poly(time,a,b,c):\n",
    "    return c+b*time+a*time**2\n",
    "\n",
    "def errfunc_poly(params,time, flux):\n",
    "    return abs(flux - poly(time,*params))"
   ]
  },
  {
   "cell_type": "code",
   "execution_count": null,
   "id": "inappropriate-instruction",
   "metadata": {},
   "outputs": [],
   "source": [
    "train = pd.read_pickle('../../plasticc/CleanDataBase/filtered_data.pkl')\n",
    "nb_param=3\n",
    "band_used=[0,1,2,3,4,5]\n",
    "guess=[1,1,1]\n",
    "err=errfunc_poly\n",
    "save='../../plasticc/param_table/test.pkl'\n",
    "#checkpoint = pd.read_pickle('../../plasticc/param_table/test.pkl')"
   ]
  },
  {
   "cell_type": "code",
   "execution_count": null,
   "id": "collective-cheese",
   "metadata": {
    "scrolled": false
   },
   "outputs": [],
   "source": [
    "paraa.parametrise(train,nb_param,band_used,guess,err,save)"
   ]
  }
 ],
 "metadata": {
  "kernelspec": {
   "display_name": "Python 3",
   "language": "python",
   "name": "python3"
  },
  "language_info": {
   "codemirror_mode": {
    "name": "ipython",
    "version": 3
   },
   "file_extension": ".py",
   "mimetype": "text/x-python",
   "name": "python",
   "nbconvert_exporter": "python",
   "pygments_lexer": "ipython3",
   "version": "3.8.5"
  }
 },
 "nbformat": 4,
 "nbformat_minor": 5
}
