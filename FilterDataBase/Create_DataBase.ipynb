{
 "cells": [
  {
   "cell_type": "markdown",
   "id": "synthetic-radar",
   "metadata": {},
   "source": [
    "## Filter a data base and save it"
   ]
  },
  {
   "cell_type": "code",
   "execution_count": 1,
   "id": "circular-norwegian",
   "metadata": {},
   "outputs": [],
   "source": [
    "import data_base\n",
    "import numpy as np\n",
    "import pandas as pd"
   ]
  },
  {
   "cell_type": "code",
   "execution_count": 15,
   "id": "adverse-lawyer",
   "metadata": {},
   "outputs": [],
   "source": [
    "data = pd.read_csv(\"../../plasticc/test_data/plasticc_test_set_batch1.csv\")\n",
    "metadata = pd.read_csv(\"../../plasticc/test_data/plasticc_test_metadata.csv\")\n",
    "\n",
    "name='../../plasticc/CleanDataBase/Bronze_test'\n",
    "band=[2,3,4,5]\n",
    "PISNdf=pd.read_pickle('../../plasticc/PISN/Fusion/PISN.pkl')"
   ]
  },
  {
   "cell_type": "code",
   "execution_count": null,
   "id": "opening-diagnosis",
   "metadata": {
    "scrolled": true
   },
   "outputs": [
    {
     "name": "stdout",
     "output_type": "stream",
     "text": [
      "We start with  32926 objects and 10855958 mesures\n",
      "After EXTRA-GALACTIC and DDF we have 32926 objects and 10855958 mesures\n",
      "After PASSBANDS we have 32926 objects and 7057110 mesures\n",
      "After DDB we have 32700 objects and 449945 mesures\n"
     ]
    }
   ],
   "source": [
    "data_base.create(data,metadata,band,name,PISNdf,Dbool=True,dff=False,extra=False,addPISN=False)"
   ]
  },
  {
   "cell_type": "code",
   "execution_count": null,
   "id": "lucky-penetration",
   "metadata": {},
   "outputs": [],
   "source": []
  }
 ],
 "metadata": {
  "kernelspec": {
   "display_name": "Python 3",
   "language": "python",
   "name": "python3"
  },
  "language_info": {
   "codemirror_mode": {
    "name": "ipython",
    "version": 3
   },
   "file_extension": ".py",
   "mimetype": "text/x-python",
   "name": "python",
   "nbconvert_exporter": "python",
   "pygments_lexer": "ipython3",
   "version": "3.8.5"
  }
 },
 "nbformat": 4,
 "nbformat_minor": 5
}
