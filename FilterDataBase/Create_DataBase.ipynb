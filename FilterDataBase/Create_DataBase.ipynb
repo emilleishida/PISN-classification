{
 "cells": [
  {
   "cell_type": "markdown",
   "id": "synthetic-radar",
   "metadata": {},
   "source": [
    "## Filter a data base and save it"
   ]
  },
  {
   "cell_type": "code",
   "execution_count": 10,
   "id": "circular-norwegian",
   "metadata": {},
   "outputs": [],
   "source": [
    "import data_base\n",
    "import numpy as np\n",
    "import pandas as pd"
   ]
  },
  {
   "cell_type": "code",
   "execution_count": 11,
   "id": "silver-demographic",
   "metadata": {},
   "outputs": [],
   "source": [
    "data = pd.read_csv(\"../../plasticc/test_data/plasticc_test_set_batch1.csv\")\n",
    "metadata = pd.read_csv(\"../../plasticc/test_data/plasticc_test_metadata.csv\")\n",
    "\n",
    "name='../../plasticc/CleanDataBase/Gold_test_10'\n",
    "band=[2,3,4,5]\n",
    "PISNdf=pd.read_pickle('../../plasticc/PISN/Fusion/PISN.pkl')"
   ]
  },
  {
   "cell_type": "code",
   "execution_count": 12,
   "id": "express-grill",
   "metadata": {},
   "outputs": [
    {
     "name": "stdout",
     "output_type": "stream",
     "text": [
      "We start with  32926 objects and 10855958 mesures\n",
      "After EXTRA-GALACTIC and DDF we have 32699 objects and 10782132 mesures\n",
      "After we add/remove PISN we have 33747 objects and 10915226 mesures\n",
      "After PASSBANDS we have 33747 objects and 7117279 mesures\n",
      "After DDB we have 33527 objects and 436676 mesures\n",
      "Total time to normalise mjd 585.5 sec\n",
      "Total time to check completness 157.9 sec\n",
      "After COMPLETNESS we are left with 3336 objects and 145685 mesures\n"
     ]
    }
   ],
   "source": [
    "data_base.create(data,metadata,\n",
    "                 band,name,\n",
    "                 PISNdf,ratioPISN=0.1,\n",
    "                 training=False,Dbool=True,\n",
    "                 dff=True,extra=True,\n",
    "                 complete=True,norm=True)"
   ]
  },
  {
   "cell_type": "code",
   "execution_count": 13,
   "id": "binary-belle",
   "metadata": {},
   "outputs": [],
   "source": [
    "data = pd.read_csv(\"../../plasticc/train_data/plasticc_train_lightcurves.csv\")\n",
    "metadata = pd.read_csv(\"../../plasticc/train_data/plasticc_train_metadata.csv\")\n",
    "\n",
    "name='../../plasticc/CleanDataBase/Gold_train_10'\n",
    "band=[2,3,4,5]\n",
    "PISNdf=pd.read_pickle('../../plasticc/PISN/Fusion/PISN.pkl')"
   ]
  },
  {
   "cell_type": "code",
   "execution_count": 14,
   "id": "blocked-lottery",
   "metadata": {},
   "outputs": [
    {
     "name": "stdout",
     "output_type": "stream",
     "text": [
      "We start with  7848 objects and 1421705 mesures\n",
      "After EXTRA-GALACTIC and DDF we have 1576 objects and 517829 mesures\n",
      "After we add/remove PISN we have 2630 objects and 652988 mesures\n",
      "After PASSBANDS we have 2630 objects and 447222 mesures\n",
      "After DDB we have 2623 objects and 84104 mesures\n",
      "Total time to normalise mjd 16.0 sec\n",
      "Total time to check completness 14.9 sec\n",
      "After COMPLETNESS we are left with 1056 objects and 61287 mesures\n"
     ]
    }
   ],
   "source": [
    "data_base.create(data,metadata,\n",
    "                 band,name,\n",
    "                 PISNdf,ratioPISN=0.1,\n",
    "                 training=False,Dbool=True,\n",
    "                 dff=True,extra=True,\n",
    "                 complete=True,norm=True)"
   ]
  },
  {
   "cell_type": "code",
   "execution_count": null,
   "id": "narrative-puzzle",
   "metadata": {},
   "outputs": [],
   "source": []
  }
 ],
 "metadata": {
  "kernelspec": {
   "display_name": "Python 3",
   "language": "python",
   "name": "python3"
  },
  "language_info": {
   "codemirror_mode": {
    "name": "ipython",
    "version": 3
   },
   "file_extension": ".py",
   "mimetype": "text/x-python",
   "name": "python",
   "nbconvert_exporter": "python",
   "pygments_lexer": "ipython3",
   "version": "3.8.5"
  }
 },
 "nbformat": 4,
 "nbformat_minor": 5
}
