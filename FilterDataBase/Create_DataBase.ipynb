{
 "cells": [
  {
   "cell_type": "markdown",
   "id": "synthetic-radar",
   "metadata": {},
   "source": [
    "## Filter a data base and save it"
   ]
  },
  {
   "cell_type": "code",
   "execution_count": 1,
   "id": "circular-norwegian",
   "metadata": {},
   "outputs": [],
   "source": [
    "import data_base\n",
    "import numpy as np\n",
    "import pandas as pd"
   ]
  },
  {
   "cell_type": "code",
   "execution_count": 2,
   "id": "adverse-lawyer",
   "metadata": {},
   "outputs": [],
   "source": [
    "data = pd.read_csv(\"../../plasticc/train_data/plasticc_train_lightcurves.csv\")\n",
    "metadata = pd.read_csv(\"../../plasticc/train_data/plasticc_train_metadata.csv\")\n",
    "\n",
    "name='../../plasticc/CleanDataBase/test'\n",
    "band=[2,3,4,5]\n",
    "PISNdf=pd.read_pickle('../../plasticc/PISN/Fusion/PISN.pkl')"
   ]
  },
  {
   "cell_type": "code",
   "execution_count": 3,
   "id": "opening-diagnosis",
   "metadata": {
    "scrolled": true
   },
   "outputs": [
    {
     "name": "stdout",
     "output_type": "stream",
     "text": [
      "We start with  7848 objects and 1421705 mesures\n",
      "After we add PISN we have 9020 objects and 1571490 mesures\n",
      "After EXTRA-GALACTIC and DDF we have 1576 objects and 517829 mesures\n",
      "After PASSBANDS we have 1576 objects and 337394 mesures\n",
      "Total time to normalise mjd 23.5 sec\n",
      "Total time to check completness 50.2 sec\n",
      "After COMPLETNESS we are left with 1576 objects and 337394 mesures\n"
     ]
    }
   ],
   "source": [
    "data_base.create(data,metadata,band,name,PISNdf)"
   ]
  },
  {
   "cell_type": "code",
   "execution_count": null,
   "id": "interesting-stability",
   "metadata": {},
   "outputs": [],
   "source": []
  }
 ],
 "metadata": {
  "kernelspec": {
   "display_name": "Python 3",
   "language": "python",
   "name": "python3"
  },
  "language_info": {
   "codemirror_mode": {
    "name": "ipython",
    "version": 3
   },
   "file_extension": ".py",
   "mimetype": "text/x-python",
   "name": "python",
   "nbconvert_exporter": "python",
   "pygments_lexer": "ipython3",
   "version": "3.8.5"
  }
 },
 "nbformat": 4,
 "nbformat_minor": 5
}
