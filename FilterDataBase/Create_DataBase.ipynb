{
 "cells": [
  {
   "cell_type": "markdown",
   "id": "synthetic-radar",
   "metadata": {},
   "source": [
    "## Filter a data base and save it"
   ]
  },
  {
   "cell_type": "code",
   "execution_count": 1,
   "id": "circular-norwegian",
   "metadata": {},
   "outputs": [],
   "source": [
    "import data_base\n",
    "import numpy as np\n",
    "import matplotlib\n",
    "import matplotlib.pyplot as plt\n",
    "import pandas as pd\n",
    "import timeit\n",
    "import os\n",
    "import glob"
   ]
  },
  {
   "cell_type": "code",
   "execution_count": 31,
   "id": "opening-diagnosis",
   "metadata": {
    "scrolled": true
   },
   "outputs": [
    {
     "name": "stdout",
     "output_type": "stream",
     "text": [
      "Time to load the data 7.9 sec\n",
      "We start with  32926 objects and 10855958 mesures\n",
      "After EXTRA-GALACTIC and DDF we have 10441 objects and 3432732 mesures\n",
      "After PASSBANDS we have 10441 objects and 2233268 mesures\n",
      "After DDB we have 10331 objects and 184915 mesures\n",
      "Total time to normalise mjd 27.4 sec\n",
      "Total time to check completness 42.4 sec\n",
      "After COMPLETNESS we are left with 1781 objects and 81123 mesures\n"
     ]
    }
   ],
   "source": [
    "name='data_test1'\n",
    "band=[2,3,4,5]\n",
    "\n",
    "start = timeit.default_timer()\n",
    "\n",
    "data = pd.read_csv(\"../testing_zenodo/plasticc_test_set_batch1.csv\")\n",
    "metadata = pd.read_csv(\"../testing_zenodo/plasticc_test_metadata.csv\")\n",
    "\n",
    "stop = timeit.default_timer()\n",
    "print('Time to load the data %.1f sec'%(stop - start)) \n",
    "\n",
    "\n",
    "data_base.create(data,metadata,band,name,train=False)"
   ]
  },
  {
   "cell_type": "code",
   "execution_count": 35,
   "id": "productive-height",
   "metadata": {},
   "outputs": [
    {
     "data": {
      "text/plain": [
       "Index(['object_id', 'ra', 'decl', 'ddf_bool', 'hostgal_specz',\n",
       "       'hostgal_photoz', 'hostgal_photoz_err', 'distmod', 'mwebv', 'target',\n",
       "       'true_target', 'true_submodel', 'true_z', 'true_distmod',\n",
       "       'true_lensdmu', 'true_vpec', 'true_rv', 'true_av', 'true_peakmjd',\n",
       "       'libid_cadence', 'tflux_u', 'tflux_g', 'tflux_r', 'tflux_i', 'tflux_z',\n",
       "       'tflux_y'],\n",
       "      dtype='object')"
      ]
     },
     "execution_count": 35,
     "metadata": {},
     "output_type": "execute_result"
    }
   ],
   "source": [
    "#data = pd.read_csv(\"../testing_zenodo/plasticc_test_set_batch2.csv\")\n",
    "metadata = pd.read_csv(\"../testing_zenodo/plasticc_test_metadata.csv\")\n"
   ]
  },
  {
   "cell_type": "code",
   "execution_count": null,
   "id": "lyric-facility",
   "metadata": {},
   "outputs": [],
   "source": [
    "metadata[.keys()]"
   ]
  },
  {
   "cell_type": "code",
   "execution_count": 30,
   "id": "academic-costs",
   "metadata": {},
   "outputs": [
    {
     "name": "stdout",
     "output_type": "stream",
     "text": [
      "3492890\n",
      "120393\n"
     ]
    }
   ],
   "source": [
    "print(len(metadata))\n",
    "isDDF = metadata['ddf_bool']==1\n",
    "isExtra = metadata['hostgal_specz']>0\n",
    "\n",
    "metadata2=metadata.loc[isExtra]\n",
    "print(len(metadata2))"
   ]
  }
 ],
 "metadata": {
  "kernelspec": {
   "display_name": "Python 3",
   "language": "python",
   "name": "python3"
  },
  "language_info": {
   "codemirror_mode": {
    "name": "ipython",
    "version": 3
   },
   "file_extension": ".py",
   "mimetype": "text/x-python",
   "name": "python",
   "nbconvert_exporter": "python",
   "pygments_lexer": "ipython3",
   "version": "3.8.5"
  }
 },
 "nbformat": 4,
 "nbformat_minor": 5
}
