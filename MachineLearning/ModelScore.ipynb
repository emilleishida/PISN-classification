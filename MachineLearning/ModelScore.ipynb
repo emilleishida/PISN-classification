{
 "cells": [
  {
   "cell_type": "code",
   "execution_count": 9,
   "id": "square-yesterday",
   "metadata": {},
   "outputs": [],
   "source": [
    "import numpy as np\n",
    "import matplotlib\n",
    "import matplotlib.pyplot as plt\n",
    "import pandas as pd\n",
    "\n",
    "import pickle"
   ]
  },
  {
   "cell_type": "code",
   "execution_count": 11,
   "id": "generic-quarter",
   "metadata": {
    "scrolled": false
   },
   "outputs": [],
   "source": [
    "mlmodel= pickle.load(open('../../plasticc/MachineLearningModels/ML_Gold_30.sav', 'rb'))\n",
    "\n",
    "training=pd.read_pickle(\"../../plasticc/param_table/Gold_train_30_poly.pkl\")\n",
    "testing=pd.read_pickle(\"../../plasticc/param_table/Gold_test_30_poly.pkl\")\n",
    "\n",
    "X_train = training.loc[:,0:]\n",
    "y_train = training['target']\n",
    "X_test = testing.loc[:,0:]\n",
    "y_test= testing['target']"
   ]
  },
  {
   "cell_type": "code",
   "execution_count": 16,
   "id": "continental-arizona",
   "metadata": {},
   "outputs": [
    {
     "name": "stdout",
     "output_type": "stream",
     "text": [
      "\n",
      "This model has an accuracy of 20.26 % on the training sample\n"
     ]
    }
   ],
   "source": [
    "good_prediction_train=y_train==predic_train\n",
    "accuracy_train=good_prediction_train.sum()/len(good_prediction_train)\n",
    "print('\\nThis model has an accuracy of %.2f %% on the training sample'%(accuracy_train*100))"
   ]
  },
  {
   "cell_type": "code",
   "execution_count": 17,
   "id": "collected-backing",
   "metadata": {},
   "outputs": [
    {
     "name": "stdout",
     "output_type": "stream",
     "text": [
      "\n",
      "This model has an accuracy of 6.16 % on the testing sample\n"
     ]
    }
   ],
   "source": [
    "#Now let us test our model on the testing sample\n",
    "\n",
    "predic_test=mlmodel.predict(X_test)\n",
    "\n",
    "good_prediction_test=y_test==predic_test\n",
    "accuracy_test=good_prediction_test.sum()/len(good_prediction_test)\n",
    "print('\\nThis model has an accuracy of %.2f %% on the testing sample'%(accuracy_test*100))"
   ]
  },
  {
   "cell_type": "code",
   "execution_count": 10,
   "id": "ideal-northern",
   "metadata": {},
   "outputs": [],
   "source": [
    "target_dict={90:'SNIa',67:'SNIa-91bg',\n",
    "             52:'SNIax',42:'SNII',\n",
    "             62:'SNIbc',95:'SLSN-I',\n",
    "             15:'TDE',64:'KN',\n",
    "             88:'AGN',92:'RRL',\n",
    "             65:'M-dwarf',16:'EB',\n",
    "             53:'Mira',6:'Lens-Single',\n",
    "             994:'PISN', 999:'UNKNOWN',\n",
    "             992 : 'ILOT', 993:'CaRT',\n",
    "             995:'Lens-String',1:'NON PISN'}\n",
    "passband_list = {0:'u',1:'g',2:'r',3:'i',4:'z',5:'y'}"
   ]
  },
  {
   "cell_type": "code",
   "execution_count": 18,
   "id": "tribal-methodology",
   "metadata": {},
   "outputs": [
    {
     "ename": "NameError",
     "evalue": "name 'classes' is not defined",
     "output_type": "error",
     "traceback": [
      "\u001b[0;31m---------------------------------------------------------------------------\u001b[0m",
      "\u001b[0;31mNameError\u001b[0m                                 Traceback (most recent call last)",
      "\u001b[0;32m<ipython-input-18-c1cc52ce8deb>\u001b[0m in \u001b[0;36m<module>\u001b[0;34m\u001b[0m\n\u001b[1;32m      4\u001b[0m \u001b[0;34m\u001b[0m\u001b[0m\n\u001b[1;32m      5\u001b[0m \u001b[0mclasse_names\u001b[0m\u001b[0;34m=\u001b[0m\u001b[0;34m[\u001b[0m\u001b[0;34m]\u001b[0m\u001b[0;34m\u001b[0m\u001b[0;34m\u001b[0m\u001b[0m\n\u001b[0;32m----> 6\u001b[0;31m \u001b[0;32mfor\u001b[0m \u001b[0mi\u001b[0m \u001b[0;32min\u001b[0m \u001b[0mrange\u001b[0m\u001b[0;34m(\u001b[0m\u001b[0mlen\u001b[0m\u001b[0;34m(\u001b[0m\u001b[0mclasses\u001b[0m\u001b[0;34m)\u001b[0m\u001b[0;34m)\u001b[0m\u001b[0;34m:\u001b[0m\u001b[0;34m\u001b[0m\u001b[0;34m\u001b[0m\u001b[0m\n\u001b[0m\u001b[1;32m      7\u001b[0m     \u001b[0mclasse_names\u001b[0m\u001b[0;34m.\u001b[0m\u001b[0mappend\u001b[0m\u001b[0;34m(\u001b[0m\u001b[0mtarget_dict\u001b[0m\u001b[0;34m.\u001b[0m\u001b[0mget\u001b[0m\u001b[0;34m(\u001b[0m\u001b[0mclasses\u001b[0m\u001b[0;34m[\u001b[0m\u001b[0mi\u001b[0m\u001b[0;34m]\u001b[0m\u001b[0;34m)\u001b[0m\u001b[0;34m)\u001b[0m\u001b[0;34m\u001b[0m\u001b[0;34m\u001b[0m\u001b[0m\n\u001b[1;32m      8\u001b[0m \u001b[0;34m\u001b[0m\u001b[0m\n",
      "\u001b[0;31mNameError\u001b[0m: name 'classes' is not defined"
     ]
    }
   ],
   "source": [
    "from sklearn.metrics import confusion_matrix\n",
    "import seaborn as sns\n",
    "\n",
    "    \n",
    "classe_names=[]\n",
    "for i in range(len(classes)):\n",
    "    classe_names.append(target_dict.get(classes[i]))\n",
    "\n",
    "# On calcul la matrice de confusion\n",
    "conf_matrix = confusion_matrix(y_test, predic_test)\n",
    "\n",
    "#On affiche la matrice de confusion\n",
    "plt.figure(figsize=(8,8))\n",
    "sns.heatmap(conf_matrix, xticklabels=classe_names, yticklabels=classe_names, annot=True, fmt=\"d\");\n",
    "plt.ylabel('True class')\n",
    "plt.xlabel('Predicted class')\n",
    "plt.title(\"Confusion matrix\",fontsize=15)\n",
    "\n",
    "plt.show()\n",
    "\n",
    "posPISN=len(conf_matrix)-1\n",
    "print('Objects predicted as PISN are really PISN %.2f %% of the time.'%(100*conf_matrix[posPISN,posPISN]/conf_matrix[:,posPISN].sum()))\n",
    "print('PISN are predicted as PISN %.2f %% of the time.'%(100*conf_matrix[posPISN,posPISN]/conf_matrix[posPISN,:].sum()))"
   ]
  },
  {
   "cell_type": "code",
   "execution_count": null,
   "id": "mature-palestine",
   "metadata": {},
   "outputs": [],
   "source": []
  }
 ],
 "metadata": {
  "kernelspec": {
   "display_name": "Python 3",
   "language": "python",
   "name": "python3"
  },
  "language_info": {
   "codemirror_mode": {
    "name": "ipython",
    "version": 3
   },
   "file_extension": ".py",
   "mimetype": "text/x-python",
   "name": "python",
   "nbconvert_exporter": "python",
   "pygments_lexer": "ipython3",
   "version": "3.8.5"
  }
 },
 "nbformat": 4,
 "nbformat_minor": 5
}
